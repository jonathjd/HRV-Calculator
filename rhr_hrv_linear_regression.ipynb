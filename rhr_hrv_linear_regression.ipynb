{
  "nbformat": 4,
  "nbformat_minor": 0,
  "metadata": {
    "colab": {
      "name": "rhr_hrv_linear_regression.ipynb",
      "provenance": [],
      "authorship_tag": "ABX9TyNal8Hjmw1EhpEI6TojmqM6",
      "include_colab_link": true
    },
    "kernelspec": {
      "name": "python3",
      "display_name": "Python 3"
    }
  },
  "cells": [
    {
      "cell_type": "markdown",
      "metadata": {
        "id": "view-in-github",
        "colab_type": "text"
      },
      "source": [
        "<a href=\"https://colab.research.google.com/github/jonathjd/rhr-linear-regression/blob/main/rhr_hrv_linear_regression.ipynb\" target=\"_parent\"><img src=\"https://colab.research.google.com/assets/colab-badge.svg\" alt=\"Open In Colab\"/></a>"
      ]
    },
    {
      "cell_type": "code",
      "metadata": {
        "id": "f-Qyhdh9sFqK"
      },
      "source": [
        "import pandas as pd\n",
        "import seaborn as sns\n",
        "import numpy as np\n",
        "import matplotlib.pyplot as plt\n",
        "%matplotlib inline\n",
        "\n",
        "#import libraries"
      ],
      "execution_count": null,
      "outputs": []
    },
    {
      "cell_type": "code",
      "metadata": {
        "id": "3gtCm7WStl3z",
        "colab": {
          "resources": {
            "http://localhost:8080/nbextensions/google.colab/files.js": {
              "data": "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",
              "ok": true,
              "headers": [
                [
                  "content-type",
                  "application/javascript"
                ]
              ],
              "status": 200,
              "status_text": ""
            }
          },
          "base_uri": "https://localhost:8080/",
          "height": 72
        },
        "outputId": "f880bbb1-3913-40a2-a3ba-0e53bc4bc6af"
      },
      "source": [
        "#Import csv file\n",
        "\n",
        "from google.colab import files\n",
        "uploaded = files.upload()"
      ],
      "execution_count": null,
      "outputs": [
        {
          "output_type": "display_data",
          "data": {
            "text/html": [
              "\n",
              "     <input type=\"file\" id=\"files-0446f117-9189-4e4f-afe2-5b44ec8915ae\" name=\"files[]\" multiple disabled\n",
              "        style=\"border:none\" />\n",
              "     <output id=\"result-0446f117-9189-4e4f-afe2-5b44ec8915ae\">\n",
              "      Upload widget is only available when the cell has been executed in the\n",
              "      current browser session. Please rerun this cell to enable.\n",
              "      </output>\n",
              "      <script src=\"/nbextensions/google.colab/files.js\"></script> "
            ],
            "text/plain": [
              "<IPython.core.display.HTML object>"
            ]
          },
          "metadata": {
            "tags": []
          }
        },
        {
          "output_type": "stream",
          "text": [
            "Saving q1_data.csv to q1_data.csv\n"
          ],
          "name": "stdout"
        }
      ]
    },
    {
      "cell_type": "code",
      "metadata": {
        "id": "gj4xRecwt8MH"
      },
      "source": [
        "df = pd.read_csv('q1_data.csv')\n",
        "\n",
        "# Dataset is now stored in a Pandas Dataframe"
      ],
      "execution_count": null,
      "outputs": []
    },
    {
      "cell_type": "code",
      "metadata": {
        "id": "pkA-JIUyu75J",
        "colab": {
          "base_uri": "https://localhost:8080/",
          "height": 204
        },
        "outputId": "62767d42-d0e0-43d1-b8fb-d813085de728"
      },
      "source": [
        "df.head()"
      ],
      "execution_count": null,
      "outputs": [
        {
          "output_type": "execute_result",
          "data": {
            "text/html": [
              "<div>\n",
              "<style scoped>\n",
              "    .dataframe tbody tr th:only-of-type {\n",
              "        vertical-align: middle;\n",
              "    }\n",
              "\n",
              "    .dataframe tbody tr th {\n",
              "        vertical-align: top;\n",
              "    }\n",
              "\n",
              "    .dataframe thead th {\n",
              "        text-align: right;\n",
              "    }\n",
              "</style>\n",
              "<table border=\"1\" class=\"dataframe\">\n",
              "  <thead>\n",
              "    <tr style=\"text-align: right;\">\n",
              "      <th></th>\n",
              "      <th>date</th>\n",
              "      <th>body_weight</th>\n",
              "      <th>calories</th>\n",
              "      <th>protein</th>\n",
              "      <th>carbs</th>\n",
              "      <th>fats</th>\n",
              "      <th>steps</th>\n",
              "      <th>heart_rate_variability</th>\n",
              "      <th>resting_heart_rate</th>\n",
              "      <th>total_TIB</th>\n",
              "      <th>rem_sleep</th>\n",
              "      <th>deep_sleep</th>\n",
              "      <th>total_rest_sleep</th>\n",
              "      <th>%total_TIB</th>\n",
              "    </tr>\n",
              "  </thead>\n",
              "  <tbody>\n",
              "    <tr>\n",
              "      <th>0</th>\n",
              "      <td>8/31/2020</td>\n",
              "      <td>245.0</td>\n",
              "      <td>2300</td>\n",
              "      <td>175</td>\n",
              "      <td>228</td>\n",
              "      <td>80</td>\n",
              "      <td>6841</td>\n",
              "      <td>61.0</td>\n",
              "      <td>61.0</td>\n",
              "      <td>7.33</td>\n",
              "      <td>1.10</td>\n",
              "      <td>1.63</td>\n",
              "      <td>2.73</td>\n",
              "      <td>0.37</td>\n",
              "    </tr>\n",
              "    <tr>\n",
              "      <th>1</th>\n",
              "      <td>9/1/2020</td>\n",
              "      <td>239.0</td>\n",
              "      <td>2335</td>\n",
              "      <td>178</td>\n",
              "      <td>228</td>\n",
              "      <td>80</td>\n",
              "      <td>12200</td>\n",
              "      <td>49.0</td>\n",
              "      <td>55.0</td>\n",
              "      <td>6.97</td>\n",
              "      <td>0.82</td>\n",
              "      <td>1.50</td>\n",
              "      <td>2.32</td>\n",
              "      <td>0.33</td>\n",
              "    </tr>\n",
              "    <tr>\n",
              "      <th>2</th>\n",
              "      <td>9/2/2020</td>\n",
              "      <td>238.0</td>\n",
              "      <td>2600</td>\n",
              "      <td>200</td>\n",
              "      <td>231</td>\n",
              "      <td>95</td>\n",
              "      <td>6157</td>\n",
              "      <td>46.0</td>\n",
              "      <td>58.0</td>\n",
              "      <td>6.87</td>\n",
              "      <td>0.30</td>\n",
              "      <td>1.00</td>\n",
              "      <td>1.30</td>\n",
              "      <td>0.19</td>\n",
              "    </tr>\n",
              "    <tr>\n",
              "      <th>3</th>\n",
              "      <td>9/3/2020</td>\n",
              "      <td>238.5</td>\n",
              "      <td>2400</td>\n",
              "      <td>168</td>\n",
              "      <td>250</td>\n",
              "      <td>88</td>\n",
              "      <td>4640</td>\n",
              "      <td>38.0</td>\n",
              "      <td>61.0</td>\n",
              "      <td>7.90</td>\n",
              "      <td>0.33</td>\n",
              "      <td>1.43</td>\n",
              "      <td>1.76</td>\n",
              "      <td>0.22</td>\n",
              "    </tr>\n",
              "    <tr>\n",
              "      <th>4</th>\n",
              "      <td>9/4/2020</td>\n",
              "      <td>238.6</td>\n",
              "      <td>2360</td>\n",
              "      <td>170</td>\n",
              "      <td>262</td>\n",
              "      <td>76</td>\n",
              "      <td>5298</td>\n",
              "      <td>39.0</td>\n",
              "      <td>63.0</td>\n",
              "      <td>7.72</td>\n",
              "      <td>0.90</td>\n",
              "      <td>1.10</td>\n",
              "      <td>2.00</td>\n",
              "      <td>0.26</td>\n",
              "    </tr>\n",
              "  </tbody>\n",
              "</table>\n",
              "</div>"
            ],
            "text/plain": [
              "        date  body_weight  calories  ...  deep_sleep  total_rest_sleep  %total_TIB\n",
              "0  8/31/2020        245.0      2300  ...        1.63              2.73        0.37\n",
              "1   9/1/2020        239.0      2335  ...        1.50              2.32        0.33\n",
              "2   9/2/2020        238.0      2600  ...        1.00              1.30        0.19\n",
              "3   9/3/2020        238.5      2400  ...        1.43              1.76        0.22\n",
              "4   9/4/2020        238.6      2360  ...        1.10              2.00        0.26\n",
              "\n",
              "[5 rows x 14 columns]"
            ]
          },
          "metadata": {
            "tags": []
          },
          "execution_count": 38
        }
      ]
    },
    {
      "cell_type": "code",
      "metadata": {
        "id": "eahiNTrkvoc0",
        "colab": {
          "base_uri": "https://localhost:8080/"
        },
        "outputId": "57cd227e-dfdf-4a99-b8a3-bdfbd9fd2f35"
      },
      "source": [
        "df.count()"
      ],
      "execution_count": null,
      "outputs": [
        {
          "output_type": "execute_result",
          "data": {
            "text/plain": [
              "date                      68\n",
              "body_weight               68\n",
              "calories                  68\n",
              "protein                   68\n",
              "carbs                     68\n",
              "fats                      68\n",
              "steps                     68\n",
              "heart_rate_variability    67\n",
              "resting_heart_rate        67\n",
              "total_TIB                 67\n",
              "rem_sleep                 67\n",
              "deep_sleep                67\n",
              "total_rest_sleep          67\n",
              "%total_TIB                67\n",
              "dtype: int64"
            ]
          },
          "metadata": {
            "tags": []
          },
          "execution_count": 41
        }
      ]
    },
    {
      "cell_type": "code",
      "metadata": {
        "id": "xUqY7EzD4Dse",
        "colab": {
          "base_uri": "https://localhost:8080/"
        },
        "outputId": "c799de3f-18cc-4a07-b3fd-bf990dab416f"
      },
      "source": [
        "#Drop na values\n",
        "df.dropna(inplace=True)\n",
        "\n",
        "#Check dataframe\n",
        "df.count()"
      ],
      "execution_count": null,
      "outputs": [
        {
          "output_type": "execute_result",
          "data": {
            "text/plain": [
              "date                      67\n",
              "body_weight               67\n",
              "calories                  67\n",
              "protein                   67\n",
              "carbs                     67\n",
              "fats                      67\n",
              "steps                     67\n",
              "heart_rate_variability    67\n",
              "resting_heart_rate        67\n",
              "total_TIB                 67\n",
              "rem_sleep                 67\n",
              "deep_sleep                67\n",
              "total_rest_sleep          67\n",
              "%total_TIB                67\n",
              "dtype: int64"
            ]
          },
          "metadata": {
            "tags": []
          },
          "execution_count": 47
        }
      ]
    },
    {
      "cell_type": "code",
      "metadata": {
        "id": "i5TXY0t79E7F",
        "colab": {
          "base_uri": "https://localhost:8080/",
          "height": 297
        },
        "outputId": "1cc2159d-9ec5-446e-c3e9-0489505d5c51"
      },
      "source": [
        "#Look at general descriptive statistics with the data\n",
        "df.describe()"
      ],
      "execution_count": null,
      "outputs": [
        {
          "output_type": "execute_result",
          "data": {
            "text/html": [
              "<div>\n",
              "<style scoped>\n",
              "    .dataframe tbody tr th:only-of-type {\n",
              "        vertical-align: middle;\n",
              "    }\n",
              "\n",
              "    .dataframe tbody tr th {\n",
              "        vertical-align: top;\n",
              "    }\n",
              "\n",
              "    .dataframe thead th {\n",
              "        text-align: right;\n",
              "    }\n",
              "</style>\n",
              "<table border=\"1\" class=\"dataframe\">\n",
              "  <thead>\n",
              "    <tr style=\"text-align: right;\">\n",
              "      <th></th>\n",
              "      <th>body_weight</th>\n",
              "      <th>calories</th>\n",
              "      <th>protein</th>\n",
              "      <th>carbs</th>\n",
              "      <th>fats</th>\n",
              "      <th>steps</th>\n",
              "      <th>heart_rate_variability</th>\n",
              "      <th>resting_heart_rate</th>\n",
              "      <th>total_TIB</th>\n",
              "      <th>rem_sleep</th>\n",
              "      <th>deep_sleep</th>\n",
              "      <th>total_rest_sleep</th>\n",
              "      <th>%total_TIB</th>\n",
              "    </tr>\n",
              "  </thead>\n",
              "  <tbody>\n",
              "    <tr>\n",
              "      <th>count</th>\n",
              "      <td>67.000000</td>\n",
              "      <td>67.000000</td>\n",
              "      <td>67.000000</td>\n",
              "      <td>67.000000</td>\n",
              "      <td>67.00000</td>\n",
              "      <td>67.000000</td>\n",
              "      <td>67.000000</td>\n",
              "      <td>67.000000</td>\n",
              "      <td>67.000000</td>\n",
              "      <td>67.000000</td>\n",
              "      <td>67.000000</td>\n",
              "      <td>67.000000</td>\n",
              "      <td>67.000000</td>\n",
              "    </tr>\n",
              "    <tr>\n",
              "      <th>mean</th>\n",
              "      <td>237.680597</td>\n",
              "      <td>2624.865672</td>\n",
              "      <td>199.641791</td>\n",
              "      <td>285.044776</td>\n",
              "      <td>74.61194</td>\n",
              "      <td>7819.432836</td>\n",
              "      <td>52.000000</td>\n",
              "      <td>57.671642</td>\n",
              "      <td>8.077015</td>\n",
              "      <td>1.378463</td>\n",
              "      <td>1.541045</td>\n",
              "      <td>2.919507</td>\n",
              "      <td>0.361493</td>\n",
              "    </tr>\n",
              "    <tr>\n",
              "      <th>std</th>\n",
              "      <td>2.157878</td>\n",
              "      <td>293.858959</td>\n",
              "      <td>25.751553</td>\n",
              "      <td>68.895712</td>\n",
              "      <td>18.70987</td>\n",
              "      <td>3252.790402</td>\n",
              "      <td>9.537804</td>\n",
              "      <td>4.072778</td>\n",
              "      <td>0.873105</td>\n",
              "      <td>0.641806</td>\n",
              "      <td>0.365448</td>\n",
              "      <td>0.819329</td>\n",
              "      <td>0.095255</td>\n",
              "    </tr>\n",
              "    <tr>\n",
              "      <th>min</th>\n",
              "      <td>232.800000</td>\n",
              "      <td>2000.000000</td>\n",
              "      <td>160.000000</td>\n",
              "      <td>195.000000</td>\n",
              "      <td>44.00000</td>\n",
              "      <td>1252.000000</td>\n",
              "      <td>28.000000</td>\n",
              "      <td>52.000000</td>\n",
              "      <td>6.530000</td>\n",
              "      <td>0.280000</td>\n",
              "      <td>0.870000</td>\n",
              "      <td>1.230000</td>\n",
              "      <td>0.170000</td>\n",
              "    </tr>\n",
              "    <tr>\n",
              "      <th>25%</th>\n",
              "      <td>236.600000</td>\n",
              "      <td>2400.000000</td>\n",
              "      <td>180.500000</td>\n",
              "      <td>230.500000</td>\n",
              "      <td>62.00000</td>\n",
              "      <td>5593.000000</td>\n",
              "      <td>46.500000</td>\n",
              "      <td>55.000000</td>\n",
              "      <td>7.455000</td>\n",
              "      <td>0.850000</td>\n",
              "      <td>1.250000</td>\n",
              "      <td>2.345000</td>\n",
              "      <td>0.300000</td>\n",
              "    </tr>\n",
              "    <tr>\n",
              "      <th>50%</th>\n",
              "      <td>237.800000</td>\n",
              "      <td>2600.000000</td>\n",
              "      <td>196.000000</td>\n",
              "      <td>266.000000</td>\n",
              "      <td>70.00000</td>\n",
              "      <td>8385.000000</td>\n",
              "      <td>53.000000</td>\n",
              "      <td>57.000000</td>\n",
              "      <td>7.800000</td>\n",
              "      <td>1.380000</td>\n",
              "      <td>1.570000</td>\n",
              "      <td>2.780000</td>\n",
              "      <td>0.360000</td>\n",
              "    </tr>\n",
              "    <tr>\n",
              "      <th>75%</th>\n",
              "      <td>239.000000</td>\n",
              "      <td>2861.000000</td>\n",
              "      <td>220.500000</td>\n",
              "      <td>342.000000</td>\n",
              "      <td>81.50000</td>\n",
              "      <td>10318.000000</td>\n",
              "      <td>59.000000</td>\n",
              "      <td>59.000000</td>\n",
              "      <td>8.805000</td>\n",
              "      <td>1.840000</td>\n",
              "      <td>1.775000</td>\n",
              "      <td>3.500000</td>\n",
              "      <td>0.440000</td>\n",
              "    </tr>\n",
              "    <tr>\n",
              "      <th>max</th>\n",
              "      <td>245.000000</td>\n",
              "      <td>3500.000000</td>\n",
              "      <td>250.000000</td>\n",
              "      <td>475.000000</td>\n",
              "      <td>126.00000</td>\n",
              "      <td>13475.000000</td>\n",
              "      <td>72.000000</td>\n",
              "      <td>75.000000</td>\n",
              "      <td>11.430000</td>\n",
              "      <td>3.120000</td>\n",
              "      <td>2.750000</td>\n",
              "      <td>5.120000</td>\n",
              "      <td>0.600000</td>\n",
              "    </tr>\n",
              "  </tbody>\n",
              "</table>\n",
              "</div>"
            ],
            "text/plain": [
              "       body_weight     calories  ...  total_rest_sleep  %total_TIB\n",
              "count    67.000000    67.000000  ...         67.000000   67.000000\n",
              "mean    237.680597  2624.865672  ...          2.919507    0.361493\n",
              "std       2.157878   293.858959  ...          0.819329    0.095255\n",
              "min     232.800000  2000.000000  ...          1.230000    0.170000\n",
              "25%     236.600000  2400.000000  ...          2.345000    0.300000\n",
              "50%     237.800000  2600.000000  ...          2.780000    0.360000\n",
              "75%     239.000000  2861.000000  ...          3.500000    0.440000\n",
              "max     245.000000  3500.000000  ...          5.120000    0.600000\n",
              "\n",
              "[8 rows x 13 columns]"
            ]
          },
          "metadata": {
            "tags": []
          },
          "execution_count": 61
        }
      ]
    },
    {
      "cell_type": "code",
      "metadata": {
        "id": "qkwfezVNvuoK",
        "colab": {
          "base_uri": "https://localhost:8080/",
          "height": 452
        },
        "outputId": "7da3e73f-7717-4603-e2b6-3c61e6634fea"
      },
      "source": [
        "#Look at correlation within the data\n",
        "df.corr()"
      ],
      "execution_count": null,
      "outputs": [
        {
          "output_type": "execute_result",
          "data": {
            "text/html": [
              "<div>\n",
              "<style scoped>\n",
              "    .dataframe tbody tr th:only-of-type {\n",
              "        vertical-align: middle;\n",
              "    }\n",
              "\n",
              "    .dataframe tbody tr th {\n",
              "        vertical-align: top;\n",
              "    }\n",
              "\n",
              "    .dataframe thead th {\n",
              "        text-align: right;\n",
              "    }\n",
              "</style>\n",
              "<table border=\"1\" class=\"dataframe\">\n",
              "  <thead>\n",
              "    <tr style=\"text-align: right;\">\n",
              "      <th></th>\n",
              "      <th>body_weight</th>\n",
              "      <th>calories</th>\n",
              "      <th>protein</th>\n",
              "      <th>carbs</th>\n",
              "      <th>fats</th>\n",
              "      <th>steps</th>\n",
              "      <th>heart_rate_variability</th>\n",
              "      <th>resting_heart_rate</th>\n",
              "      <th>total_TIB</th>\n",
              "      <th>rem_sleep</th>\n",
              "      <th>deep_sleep</th>\n",
              "      <th>total_rest_sleep</th>\n",
              "      <th>%total_TIB</th>\n",
              "    </tr>\n",
              "  </thead>\n",
              "  <tbody>\n",
              "    <tr>\n",
              "      <th>body_weight</th>\n",
              "      <td>1.000000</td>\n",
              "      <td>-0.288604</td>\n",
              "      <td>-0.219948</td>\n",
              "      <td>-0.264697</td>\n",
              "      <td>0.167449</td>\n",
              "      <td>-0.163693</td>\n",
              "      <td>0.085323</td>\n",
              "      <td>0.058742</td>\n",
              "      <td>-0.089321</td>\n",
              "      <td>-0.225564</td>\n",
              "      <td>-0.068201</td>\n",
              "      <td>-0.207111</td>\n",
              "      <td>-0.204778</td>\n",
              "    </tr>\n",
              "    <tr>\n",
              "      <th>calories</th>\n",
              "      <td>-0.288604</td>\n",
              "      <td>1.000000</td>\n",
              "      <td>0.609064</td>\n",
              "      <td>0.757108</td>\n",
              "      <td>-0.095451</td>\n",
              "      <td>0.431952</td>\n",
              "      <td>0.215647</td>\n",
              "      <td>-0.262513</td>\n",
              "      <td>-0.272188</td>\n",
              "      <td>0.133489</td>\n",
              "      <td>-0.148509</td>\n",
              "      <td>0.038326</td>\n",
              "      <td>0.179277</td>\n",
              "    </tr>\n",
              "    <tr>\n",
              "      <th>protein</th>\n",
              "      <td>-0.219948</td>\n",
              "      <td>0.609064</td>\n",
              "      <td>1.000000</td>\n",
              "      <td>0.332388</td>\n",
              "      <td>-0.157812</td>\n",
              "      <td>0.263066</td>\n",
              "      <td>0.214244</td>\n",
              "      <td>-0.204834</td>\n",
              "      <td>-0.113160</td>\n",
              "      <td>0.245474</td>\n",
              "      <td>-0.052864</td>\n",
              "      <td>0.168708</td>\n",
              "      <td>0.212333</td>\n",
              "    </tr>\n",
              "    <tr>\n",
              "      <th>carbs</th>\n",
              "      <td>-0.264697</td>\n",
              "      <td>0.757108</td>\n",
              "      <td>0.332388</td>\n",
              "      <td>1.000000</td>\n",
              "      <td>-0.581584</td>\n",
              "      <td>0.265708</td>\n",
              "      <td>0.184438</td>\n",
              "      <td>-0.268908</td>\n",
              "      <td>-0.338482</td>\n",
              "      <td>0.129419</td>\n",
              "      <td>-0.226567</td>\n",
              "      <td>0.000322</td>\n",
              "      <td>0.180672</td>\n",
              "    </tr>\n",
              "    <tr>\n",
              "      <th>fats</th>\n",
              "      <td>0.167449</td>\n",
              "      <td>-0.095451</td>\n",
              "      <td>-0.157812</td>\n",
              "      <td>-0.581584</td>\n",
              "      <td>1.000000</td>\n",
              "      <td>-0.037452</td>\n",
              "      <td>-0.073783</td>\n",
              "      <td>0.149617</td>\n",
              "      <td>0.296666</td>\n",
              "      <td>-0.109923</td>\n",
              "      <td>0.269542</td>\n",
              "      <td>0.034118</td>\n",
              "      <td>-0.101434</td>\n",
              "    </tr>\n",
              "    <tr>\n",
              "      <th>steps</th>\n",
              "      <td>-0.163693</td>\n",
              "      <td>0.431952</td>\n",
              "      <td>0.263066</td>\n",
              "      <td>0.265708</td>\n",
              "      <td>-0.037452</td>\n",
              "      <td>1.000000</td>\n",
              "      <td>0.476580</td>\n",
              "      <td>-0.292589</td>\n",
              "      <td>-0.318105</td>\n",
              "      <td>0.001304</td>\n",
              "      <td>-0.129688</td>\n",
              "      <td>-0.056824</td>\n",
              "      <td>0.085283</td>\n",
              "    </tr>\n",
              "    <tr>\n",
              "      <th>heart_rate_variability</th>\n",
              "      <td>0.085323</td>\n",
              "      <td>0.215647</td>\n",
              "      <td>0.214244</td>\n",
              "      <td>0.184438</td>\n",
              "      <td>-0.073783</td>\n",
              "      <td>0.476580</td>\n",
              "      <td>1.000000</td>\n",
              "      <td>-0.604963</td>\n",
              "      <td>-0.314347</td>\n",
              "      <td>0.233616</td>\n",
              "      <td>-0.241168</td>\n",
              "      <td>0.075430</td>\n",
              "      <td>0.221972</td>\n",
              "    </tr>\n",
              "    <tr>\n",
              "      <th>resting_heart_rate</th>\n",
              "      <td>0.058742</td>\n",
              "      <td>-0.262513</td>\n",
              "      <td>-0.204834</td>\n",
              "      <td>-0.268908</td>\n",
              "      <td>0.149617</td>\n",
              "      <td>-0.292589</td>\n",
              "      <td>-0.604963</td>\n",
              "      <td>1.000000</td>\n",
              "      <td>0.341272</td>\n",
              "      <td>-0.095472</td>\n",
              "      <td>0.117302</td>\n",
              "      <td>-0.022466</td>\n",
              "      <td>-0.177200</td>\n",
              "    </tr>\n",
              "    <tr>\n",
              "      <th>total_TIB</th>\n",
              "      <td>-0.089321</td>\n",
              "      <td>-0.272188</td>\n",
              "      <td>-0.113160</td>\n",
              "      <td>-0.338482</td>\n",
              "      <td>0.296666</td>\n",
              "      <td>-0.318105</td>\n",
              "      <td>-0.314347</td>\n",
              "      <td>0.341272</td>\n",
              "      <td>1.000000</td>\n",
              "      <td>0.120258</td>\n",
              "      <td>0.651502</td>\n",
              "      <td>0.384793</td>\n",
              "      <td>-0.024595</td>\n",
              "    </tr>\n",
              "    <tr>\n",
              "      <th>rem_sleep</th>\n",
              "      <td>-0.225564</td>\n",
              "      <td>0.133489</td>\n",
              "      <td>0.245474</td>\n",
              "      <td>0.129419</td>\n",
              "      <td>-0.109923</td>\n",
              "      <td>0.001304</td>\n",
              "      <td>0.233616</td>\n",
              "      <td>-0.095472</td>\n",
              "      <td>0.120258</td>\n",
              "      <td>1.000000</td>\n",
              "      <td>0.268246</td>\n",
              "      <td>0.902978</td>\n",
              "      <td>0.912204</td>\n",
              "    </tr>\n",
              "    <tr>\n",
              "      <th>deep_sleep</th>\n",
              "      <td>-0.068201</td>\n",
              "      <td>-0.148509</td>\n",
              "      <td>-0.052864</td>\n",
              "      <td>-0.226567</td>\n",
              "      <td>0.269542</td>\n",
              "      <td>-0.129688</td>\n",
              "      <td>-0.241168</td>\n",
              "      <td>0.117302</td>\n",
              "      <td>0.651502</td>\n",
              "      <td>0.268246</td>\n",
              "      <td>1.000000</td>\n",
              "      <td>0.656159</td>\n",
              "      <td>0.429595</td>\n",
              "    </tr>\n",
              "    <tr>\n",
              "      <th>total_rest_sleep</th>\n",
              "      <td>-0.207111</td>\n",
              "      <td>0.038326</td>\n",
              "      <td>0.168708</td>\n",
              "      <td>0.000322</td>\n",
              "      <td>0.034118</td>\n",
              "      <td>-0.056824</td>\n",
              "      <td>0.075430</td>\n",
              "      <td>-0.022466</td>\n",
              "      <td>0.384793</td>\n",
              "      <td>0.902978</td>\n",
              "      <td>0.656159</td>\n",
              "      <td>1.000000</td>\n",
              "      <td>0.906172</td>\n",
              "    </tr>\n",
              "    <tr>\n",
              "      <th>%total_TIB</th>\n",
              "      <td>-0.204778</td>\n",
              "      <td>0.179277</td>\n",
              "      <td>0.212333</td>\n",
              "      <td>0.180672</td>\n",
              "      <td>-0.101434</td>\n",
              "      <td>0.085283</td>\n",
              "      <td>0.221972</td>\n",
              "      <td>-0.177200</td>\n",
              "      <td>-0.024595</td>\n",
              "      <td>0.912204</td>\n",
              "      <td>0.429595</td>\n",
              "      <td>0.906172</td>\n",
              "      <td>1.000000</td>\n",
              "    </tr>\n",
              "  </tbody>\n",
              "</table>\n",
              "</div>"
            ],
            "text/plain": [
              "                        body_weight  calories  ...  total_rest_sleep  %total_TIB\n",
              "body_weight                1.000000 -0.288604  ...         -0.207111   -0.204778\n",
              "calories                  -0.288604  1.000000  ...          0.038326    0.179277\n",
              "protein                   -0.219948  0.609064  ...          0.168708    0.212333\n",
              "carbs                     -0.264697  0.757108  ...          0.000322    0.180672\n",
              "fats                       0.167449 -0.095451  ...          0.034118   -0.101434\n",
              "steps                     -0.163693  0.431952  ...         -0.056824    0.085283\n",
              "heart_rate_variability     0.085323  0.215647  ...          0.075430    0.221972\n",
              "resting_heart_rate         0.058742 -0.262513  ...         -0.022466   -0.177200\n",
              "total_TIB                 -0.089321 -0.272188  ...          0.384793   -0.024595\n",
              "rem_sleep                 -0.225564  0.133489  ...          0.902978    0.912204\n",
              "deep_sleep                -0.068201 -0.148509  ...          0.656159    0.429595\n",
              "total_rest_sleep          -0.207111  0.038326  ...          1.000000    0.906172\n",
              "%total_TIB                -0.204778  0.179277  ...          0.906172    1.000000\n",
              "\n",
              "[13 rows x 13 columns]"
            ]
          },
          "metadata": {
            "tags": []
          },
          "execution_count": 48
        }
      ]
    },
    {
      "cell_type": "code",
      "metadata": {
        "id": "EcCPimMPwDcF",
        "colab": {
          "base_uri": "https://localhost:8080/",
          "height": 709
        },
        "outputId": "a66e63a4-ef00-4857-e748-262fa652146d"
      },
      "source": [
        "fig, ax = plt.subplots(figsize=(15,10))\n",
        "\n",
        "sns.heatmap(df.corr(), annot = True, fmt='.1g', vmin=-1, vmax=1, center= 0, cmap = 'coolwarm', linewidths=3, linecolor='black', ax=ax)\n",
        "\n",
        "#Correlation matrix using seaborn"
      ],
      "execution_count": null,
      "outputs": [
        {
          "output_type": "execute_result",
          "data": {
            "text/plain": [
              "<matplotlib.axes._subplots.AxesSubplot at 0x7f14f9146b00>"
            ]
          },
          "metadata": {
            "tags": []
          },
          "execution_count": 49
        },
        {
          "output_type": "display_data",
          "data": {
            "image/png": "[encoded data removed]",
            "text/plain": [
              "<Figure size 1080x720 with 2 Axes>"
            ]
          },
          "metadata": {
            "tags": [],
            "needs_background": "light"
          }
        }
      ]
    },
    {
      "cell_type": "code",
      "metadata": {
        "id": "bZ0wc5ZpxbHB",
        "colab": {
          "base_uri": "https://localhost:8080/",
          "height": 515
        },
        "outputId": "f7ca7bfd-8dd5-4c68-e3a1-7b932726527e"
      },
      "source": [
        "# Plot variables with high association with line of best fit\n",
        "\n",
        "plt.figure(figsize = (15,8))\n",
        "sns.regplot(data = df, x = 'resting_heart_rate', y = 'heart_rate_variability')"
      ],
      "execution_count": null,
      "outputs": [
        {
          "output_type": "execute_result",
          "data": {
            "text/plain": [
              "<matplotlib.axes._subplots.AxesSubplot at 0x7f14fe19d5c0>"
            ]
          },
          "metadata": {
            "tags": []
          },
          "execution_count": 50
        },
        {
          "output_type": "display_data",
          "data": {
            "image/png": "[encoded data removed]",
            "text/plain": [
              "<Figure size 1080x576 with 1 Axes>"
            ]
          },
          "metadata": {
            "tags": [],
            "needs_background": "light"
          }
        }
      ]
    },
    {
      "cell_type": "code",
      "metadata": {
        "id": "xLVJcDXkzjiu",
        "colab": {
          "base_uri": "https://localhost:8080/"
        },
        "outputId": "97794b27-318a-40b4-f83e-57c62ec8dbc9"
      },
      "source": [
        "X = df['resting_heart_rate']\n",
        "Y = df['heart_rate_variability']\n",
        "\n",
        "#Can we predict heart rate variability with resting heart rate?\n",
        "np.polyfit(X, Y, deg = 1)"
      ],
      "execution_count": null,
      "outputs": [
        {
          "output_type": "execute_result",
          "data": {
            "text/plain": [
              "array([ -1.41672802, 133.70503067])"
            ]
          },
          "metadata": {
            "tags": []
          },
          "execution_count": 51
        }
      ]
    },
    {
      "cell_type": "code",
      "metadata": {
        "id": "S69NiXJt3dba"
      },
      "source": [
        "#Sample Data\n",
        "\n",
        "potential_rhr = np.linspace(40,80,70)\n",
        "\n",
        "predicted_hrv = -1.41672802 * potential_rhr + 133.70503067"
      ],
      "execution_count": null,
      "outputs": []
    },
    {
      "cell_type": "code",
      "metadata": {
        "id": "Mea2XivU6Znp",
        "colab": {
          "base_uri": "https://localhost:8080/",
          "height": 297
        },
        "outputId": "155f267a-6d82-4602-df68-3934c930b709"
      },
      "source": [
        "#plot regression line\n",
        "\n",
        "sns.scatterplot(x = 'resting_heart_rate', y = 'heart_rate_variability', data = df)\n",
        "plt.plot(potential_rhr,predicted_hrv, color = 'red')"
      ],
      "execution_count": null,
      "outputs": [
        {
          "output_type": "execute_result",
          "data": {
            "text/plain": [
              "[<matplotlib.lines.Line2D at 0x7f14f06e2b38>]"
            ]
          },
          "metadata": {
            "tags": []
          },
          "execution_count": 58
        },
        {
          "output_type": "display_data",
          "data": {
            "image/png": "[encoded data removed]",
            "text/plain": [
              "<Figure size 432x288 with 1 Axes>"
            ]
          },
          "metadata": {
            "tags": [],
            "needs_background": "light"
          }
        }
      ]
    },
    {
      "cell_type": "code",
      "metadata": {
        "id": "DztEQcEp7kTP",
        "colab": {
          "base_uri": "https://localhost:8080/"
        },
        "outputId": "dfb12e3e-7ccf-45ed-e28d-e7f3e2b914e7"
      },
      "source": [
        "#sample prediction\n",
        "\n",
        "rhr = 66\n",
        "predicted_hrv = -1.41672802 * rhr + 133.70503067\n",
        "\n",
        "# Predicted heart rate variability on a day where my average resting heart rate is 66 beats per minute\n",
        "predicted_hrv\n",
        "\n",
        "# On a day where my average resting heart rate is 66 beats per minute, \n",
        "# my predicted average heart rate variability is 40 ms (milliseconds)"
      ],
      "execution_count": null,
      "outputs": [
        {
          "output_type": "execute_result",
          "data": {
            "text/plain": [
              "40.200981350000006"
            ]
          },
          "metadata": {
            "tags": []
          },
          "execution_count": 62
        }
      ]
    }
  ]
}